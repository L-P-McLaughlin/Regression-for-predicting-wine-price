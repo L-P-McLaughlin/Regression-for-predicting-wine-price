{
 "cells": [
  {
   "cell_type": "code",
   "execution_count": 1,
   "id": "206fc983-5fc5-4887-99f4-2af0e371206d",
   "metadata": {},
   "outputs": [
    {
     "name": "stdout",
     "output_type": "stream",
     "text": [
      "Requirement already satisfied: pandas in ./.conda/envs/default/lib/python3.9/site-packages (1.5.3)\n",
      "Requirement already satisfied: pytz>=2020.1 in ./.conda/envs/default/lib/python3.9/site-packages (from pandas) (2022.7.1)\n",
      "Requirement already satisfied: numpy>=1.20.3 in ./.conda/envs/default/lib/python3.9/site-packages (from pandas) (1.24.1)\n",
      "Requirement already satisfied: python-dateutil>=2.8.1 in ./.conda/envs/default/lib/python3.9/site-packages (from pandas) (2.8.2)\n",
      "Requirement already satisfied: six>=1.5 in ./.conda/envs/default/lib/python3.9/site-packages (from python-dateutil>=2.8.1->pandas) (1.16.0)\n",
      "Requirement already satisfied: scikit-learn in ./.conda/envs/default/lib/python3.9/site-packages (1.2.0)\n",
      "Requirement already satisfied: joblib>=1.1.1 in ./.conda/envs/default/lib/python3.9/site-packages (from scikit-learn) (1.2.0)\n",
      "Requirement already satisfied: numpy>=1.17.3 in ./.conda/envs/default/lib/python3.9/site-packages (from scikit-learn) (1.24.1)\n",
      "Requirement already satisfied: scipy>=1.3.2 in ./.conda/envs/default/lib/python3.9/site-packages (from scikit-learn) (1.10.0)\n",
      "Requirement already satisfied: threadpoolctl>=2.0.0 in ./.conda/envs/default/lib/python3.9/site-packages (from scikit-learn) (3.1.0)\n"
     ]
    }
   ],
   "source": [
    "!pip install pandas\n",
    "!pip install scikit-learn\n",
    "import pandas as pd\n",
    "import numpy as np\n",
    "from sklearn.metrics import accuracy_score,f1_score,precision_score,recall_score,ConfusionMatrixDisplay\n",
    "import matplotlib.pyplot as plt\n",
    "from sklearn.cluster import KMeans\n",
    "from sklearn.model_selection import train_test_split\n",
    "from sklearn.metrics import mean_squared_error\n",
    "from sklearn.model_selection import train_test_split\n",
    "from sklearn import linear_model\n",
    "from sklearn.preprocessing import StandardScaler  \n",
    "from sklearn.neural_network import MLPRegressor\n",
    "from sklearn.datasets import make_regression\n",
    "from sklearn import tree\n",
    "from sklearn import ensemble\n",
    "wine = pd.read_pickle('winelist-1.pkl')"
   ]
  },
  {
   "cell_type": "code",
   "execution_count": 2,
   "id": "aa12a029-78ba-4fb3-b6d2-ae68e064cc87",
   "metadata": {},
   "outputs": [],
   "source": [
    "G = np.unique(wine['drink'])\n",
    "\n",
    "grape = {g:n for n,g in zip(range(0,len(G)),G)}\n",
    "\n",
    "C = np.unique(wine['country'])\n",
    "\n",
    "land = {g:n for n,g in zip(range(0,len(C)),C)}\n",
    "\n",
    "D = np.unique(wine['description'])\n",
    "\n",
    "flavour = {g:n for n,g in zip(range(0,len(D)),D)}\n",
    "\n",
    "wine_price = []\n",
    "for i in wine['price']:\n",
    "    wine_price.append(float(i))\n",
    "wine_grape = []\n",
    "for i in wine['drink']:\n",
    "    wine_grape.append(grape[i])\n",
    "wine_desc = []\n",
    "for i in wine['description']:\n",
    "    wine_desc.append(flavour[i])\n",
    "wine_land = []\n",
    "for i in wine['country']:\n",
    "    wine_land.append(land[i])"
   ]
  },
  {
   "cell_type": "code",
   "execution_count": 45,
   "id": "6acdf053-a371-42cb-b2f2-c3f87922fe2d",
   "metadata": {},
   "outputs": [
    {
     "name": "stdout",
     "output_type": "stream",
     "text": [
      "405.37440672823027\n"
     ]
    }
   ],
   "source": [
    "\n",
    "scores_tree = []\n",
    "for i in range(0,100):\n",
    "    X_train, X_test, price_train, price_test = train_test_split(np.transpose([wine_desc,wine_land,wine_grape]), wine_price, test_size=0.33)\n",
    "    clf = tree.DecisionTreeRegressor()\n",
    "    clf = clf.fit(X_train, price_train)\n",
    "    preds = clf.predict(X_test)\n",
    "    score = mean_squared_error(price_test,preds)\n",
    "    scores_tree.append(score)\n",
    "print(np.mean(scores_tree))"
   ]
  },
  {
   "cell_type": "code",
   "execution_count": 46,
   "id": "81e16362-8268-4be9-925b-3b48bb7bb683",
   "metadata": {},
   "outputs": [
    {
     "data": {
      "text/plain": [
       "(array([ 4., 19., 26., 25., 11.,  5.,  2.,  4.,  2.,  2.]),\n",
       " array([173.45345661, 242.34127999, 311.22910337, 380.11692676,\n",
       "        449.00475014, 517.89257352, 586.78039691, 655.66822029,\n",
       "        724.55604367, 793.44386706, 862.33169044]),\n",
       " <BarContainer object of 10 artists>)"
      ]
     },
     "execution_count": 46,
     "metadata": {},
     "output_type": "execute_result"
    },
    {
     "data": {
      "image/png": "[encoded data removed]",
      "text/plain": [
       "<Figure size 640x480 with 1 Axes>"
      ]
     },
     "metadata": {},
     "output_type": "display_data"
    }
   ],
   "source": [
    "plt.hist(scores_tree,ec='black',lw=0.2)"
   ]
  },
  {
   "cell_type": "code",
   "execution_count": 25,
   "id": "957999cb-a162-4d4b-a24d-5ff12998ff4e",
   "metadata": {
    "tags": []
   },
   "outputs": [
    {
     "name": "stdout",
     "output_type": "stream",
     "text": [
      "730.7417607260594\n"
     ]
    }
   ],
   "source": [
    "scores_bayes = []\n",
    "for i in range(0,100):\n",
    "    X_train, X_test, price_train, price_test = train_test_split(np.transpose([wine_desc,wine_land,wine_grape]), wine_price, test_size=0.33)\n",
    "    reg = linear_model.BayesianRidge()\n",
    "    reg.fit(X_train, price_train)\n",
    "    preds = reg.predict(X_test)\n",
    "    score = mean_squared_error(price_test,preds)\n",
    "    scores_bayes.append(score)\n",
    "print(np.mean(scores_bayes))"
   ]
  },
  {
   "cell_type": "code",
   "execution_count": 21,
   "id": "00b0d013-7d57-48e4-9cb7-dbca180388c4",
   "metadata": {},
   "outputs": [
    {
     "data": {
      "text/plain": [
       "(array([ 4.,  5., 18., 22., 12., 16., 14.,  8.,  0.,  1.]),\n",
       " array([ 222.6577433 ,  338.98302717,  455.30831104,  571.6335949 ,\n",
       "         687.95887877,  804.28416264,  920.6094465 , 1036.93473037,\n",
       "        1153.26001424, 1269.5852981 , 1385.91058197]),\n",
       " <BarContainer object of 10 artists>)"
      ]
     },
     "execution_count": 21,
     "metadata": {},
     "output_type": "execute_result"
    },
    {
     "data": {
      "image/png": "[encoded data removed]",
      "text/plain": [
       "<Figure size 640x480 with 1 Axes>"
      ]
     },
     "metadata": {},
     "output_type": "display_data"
    }
   ],
   "source": [
    "plt.hist(scores_bayes,ec='black',lw=0.2)\n"
   ]
  },
  {
   "cell_type": "code",
   "execution_count": 15,
   "id": "b0750edf-a9a3-422a-abc9-90196d336749",
   "metadata": {},
   "outputs": [],
   "source": [
    "scores_GBR = []\n",
    "params = {\n",
    "    \"n_estimators\": 2000,\n",
    "    \"max_depth\": 6,\n",
    "    \"min_samples_split\": 5,\n",
    "    \"learning_rate\": 0.2,\n",
    "    \"loss\": \"squared_error\",\n",
    "}\n",
    "\n",
    "for i in range(0,100):\n",
    "    X_train, X_test, price_train, price_test = train_test_split(np.transpose([wine_desc,wine_land,wine_grape]), wine_price, test_size=0.33)\n",
    "    reg = ensemble.GradientBoostingRegressor(**params)\n",
    "    reg.fit(X_train, price_train)\n",
    "    preds = reg.predict(X_test)\n",
    "    score = mean_squared_error(price_test,preds)\n",
    "    scores_GBR.append(score)\n",
    "\n",
    "\n"
   ]
  },
  {
   "cell_type": "code",
   "execution_count": 44,
   "id": "13070933-1d18-4d7e-88b9-537e59bb8fbd",
   "metadata": {},
   "outputs": [
    {
     "name": "stdout",
     "output_type": "stream",
     "text": [
      "401.1307308551434\n"
     ]
    }
   ],
   "source": [
    "print(np.mean(scores_GBR))"
   ]
  },
  {
   "cell_type": "code",
   "execution_count": 16,
   "id": "d8ff54e8-cde7-4168-bd1b-9fb393faa1a7",
   "metadata": {},
   "outputs": [
    {
     "data": {
      "text/plain": [
       "(array([18., 27., 31.,  7.,  5.,  3.,  4.,  2.,  2.,  1.]),\n",
       " array([ 182.06191658,  266.47450988,  350.88710318,  435.29969648,\n",
       "         519.71228977,  604.12488307,  688.53747637,  772.95006967,\n",
       "         857.36266297,  941.77525627, 1026.18784957]),\n",
       " <BarContainer object of 10 artists>)"
      ]
     },
     "execution_count": 16,
     "metadata": {},
     "output_type": "execute_result"
    },
    {
     "data": {
      "image/png": "[encoded data removed]",
      "text/plain": [
       "<Figure size 640x480 with 1 Axes>"
      ]
     },
     "metadata": {},
     "output_type": "display_data"
    }
   ],
   "source": [
    "plt.hist(scores_GBR,ec='black',lw=0.2)"
   ]
  },
  {
   "cell_type": "code",
   "execution_count": 47,
   "id": "9a01c9d9-88f0-46d2-9759-1aea7c08c074",
   "metadata": {
    "tags": []
   },
   "outputs": [
    {
     "data": {
      "image/png": "[encoded data removed]",
      "text/plain": [
       "<Figure size 640x480 with 1 Axes>"
      ]
     },
     "metadata": {},
     "output_type": "display_data"
    }
   ],
   "source": [
    "plt.hist(scores_tree, alpha=0.5, label='decision tree',ec='black')\n",
    "plt.hist(scores_GBR, alpha=0.5, label='GBR1',ec='black')\n",
    "#plt.hist(scores_GBR2, alpha=0.5, label='GBR2',ec='black')\n",
    "plt.legend(loc='upper right')\n",
    "plt.show()\n"
   ]
  },
  {
   "cell_type": "code",
   "execution_count": 49,
   "id": "4da052a1-124e-47d2-98bf-f45a13c389f5",
   "metadata": {
    "tags": []
   },
   "outputs": [
    {
     "name": "stdout",
     "output_type": "stream",
     "text": [
      "405.37440672823027\n",
      "730.7417607260594\n",
      "401.1307308551434\n"
     ]
    }
   ],
   "source": [
    "print(np.mean(scores_tree))\n",
    "print(np.mean(scores_bayes))\n",
    "print(np.mean(scores_GBR))"
   ]
  },
  {
   "cell_type": "code",
   "execution_count": 54,
   "id": "9aaec002-6e8d-4054-9b81-2b648d80d60b",
   "metadata": {},
   "outputs": [
    {
     "name": "stdout",
     "output_type": "stream",
     "text": [
      "11.99 21.06142857142857\n",
      "9.99 17.49\n",
      "14.99 12.49\n",
      "55.99 36.790000000000006\n",
      "13.99 15.99\n",
      "8.99 10.99\n",
      "19.99 21.066923076923082\n",
      "12.99 17.256666666666668\n",
      "9.99 13.99\n",
      "9.99 25.0\n",
      "9.99 9.99\n",
      "16.99 12.49\n",
      "27.99 33.656666666666666\n",
      "17.99 17.99\n",
      "9.99 17.190000000000005\n",
      "9.99 9.99\n",
      "72.99 20.19\n",
      "11.99 10.99\n",
      "11.99 9.99\n",
      "9.99 17.190000000000005\n"
     ]
    }
   ],
   "source": [
    "for i in range(0,20):\n",
    "    print(price_test[i],preds[i])"
   ]
  },
  {
   "cell_type": "code",
   "execution_count": 63,
   "id": "86b27dc7-d09c-43a6-9b12-ec6b51bd4a78",
   "metadata": {},
   "outputs": [],
   "source": [
    "x_train,x_test, price_train, price_test = train_test_split(np.transpose([wine['name'].to_list(),wine_desc,wine_land,wine_grape]), wine_price, test_size=0.33)\n"
   ]
  },
  {
   "cell_type": "code",
   "execution_count": 67,
   "id": "16989673-470d-4049-9c50-a9b1a2ed1da0",
   "metadata": {},
   "outputs": [],
   "source": [
    "X_train  = []\n",
    "X_test = []\n",
    "for i in x_train:\n",
    "    X_train.append(i[1:])\n",
    "for i in x_test:\n",
    "    X_test.append(i[1:])"
   ]
  },
  {
   "cell_type": "code",
   "execution_count": 68,
   "id": "b6c3e7e4-82c7-436b-99f4-7e08bf800f67",
   "metadata": {},
   "outputs": [],
   "source": [
    "clf = tree.DecisionTreeRegressor()\n",
    "clf = clf.fit(X_train, price_train)\n",
    "preds = clf.predict(X_test)\n",
    "score = mean_squared_error(price_test,preds)\n",
    "scores_tree.append(score)"
   ]
  },
  {
   "cell_type": "code",
   "execution_count": 69,
   "id": "888550ae-7484-4d85-ac53-52f842d94e82",
   "metadata": {},
   "outputs": [
    {
     "name": "stdout",
     "output_type": "stream",
     "text": [
      "348.0606290702681\n"
     ]
    }
   ],
   "source": [
    "test = pd.DataFrame(zip(),columns=['name',])"
   ]
  }
 ],
 "metadata": {
  "kernelspec": {
   "display_name": "default:Python",
   "language": "python",
   "name": "conda-env-default-py"
  },
  "language_info": {
   "codemirror_mode": {
    "name": "ipython",
    "version": 3
   },
   "file_extension": ".py",
   "mimetype": "text/x-python",
   "name": "python",
   "nbconvert_exporter": "python",
   "pygments_lexer": "ipython3",
   "version": "3.9.13"
  }
 },
 "nbformat": 4,
 "nbformat_minor": 5
}
