{
 "cells": [
  {
   "cell_type": "markdown",
   "id": "754e42d8-920a-4b3a-892f-71c56171a914",
   "metadata": {},
   "source": [
    "install and import some packages"
   ]
  },
  {
   "cell_type": "code",
   "execution_count": 1,
   "id": "e764407d-f5e4-442d-9402-f21584d1d5ca",
   "metadata": {
    "tags": []
   },
   "outputs": [
    {
     "name": "stdout",
     "output_type": "stream",
     "text": [
      "Requirement already satisfied: requests_html in ./.conda/envs/default/lib/python3.9/site-packages (0.10.0)\n",
      "Requirement already satisfied: parse in ./.conda/envs/default/lib/python3.9/site-packages (from requests_html) (1.19.0)\n",
      "Requirement already satisfied: pyquery in ./.conda/envs/default/lib/python3.9/site-packages (from requests_html) (2.0.0)\n",
      "Requirement already satisfied: fake-useragent in ./.conda/envs/default/lib/python3.9/site-packages (from requests_html) (1.1.1)\n",
      "Requirement already satisfied: requests in ./.conda/envs/default/lib/python3.9/site-packages (from requests_html) (2.28.2)\n",
      "Requirement already satisfied: w3lib in ./.conda/envs/default/lib/python3.9/site-packages (from requests_html) (2.1.1)\n",
      "Requirement already satisfied: pyppeteer>=0.0.14 in ./.conda/envs/default/lib/python3.9/site-packages (from requests_html) (1.0.2)\n",
      "Requirement already satisfied: bs4 in ./.conda/envs/default/lib/python3.9/site-packages (from requests_html) (0.0.1)\n",
      "Requirement already satisfied: websockets<11.0,>=10.0 in ./.conda/envs/default/lib/python3.9/site-packages (from pyppeteer>=0.0.14->requests_html) (10.4)\n",
      "Requirement already satisfied: tqdm<5.0.0,>=4.42.1 in ./.conda/envs/default/lib/python3.9/site-packages (from pyppeteer>=0.0.14->requests_html) (4.64.1)\n",
      "Requirement already satisfied: pyee<9.0.0,>=8.1.0 in ./.conda/envs/default/lib/python3.9/site-packages (from pyppeteer>=0.0.14->requests_html) (8.2.2)\n",
      "Requirement already satisfied: certifi>=2021 in ./.conda/envs/default/lib/python3.9/site-packages (from pyppeteer>=0.0.14->requests_html) (2022.12.7)\n",
      "Requirement already satisfied: appdirs<2.0.0,>=1.4.3 in ./.conda/envs/default/lib/python3.9/site-packages (from pyppeteer>=0.0.14->requests_html) (1.4.4)\n",
      "Requirement already satisfied: importlib-metadata>=1.4 in ./.conda/envs/default/lib/python3.9/site-packages (from pyppeteer>=0.0.14->requests_html) (5.0.0)\n",
      "Requirement already satisfied: urllib3<2.0.0,>=1.25.8 in ./.conda/envs/default/lib/python3.9/site-packages (from pyppeteer>=0.0.14->requests_html) (1.26.14)\n",
      "Requirement already satisfied: zipp>=0.5 in ./.conda/envs/default/lib/python3.9/site-packages (from importlib-metadata>=1.4->pyppeteer>=0.0.14->requests_html) (3.10.0)\n",
      "Requirement already satisfied: beautifulsoup4 in ./.conda/envs/default/lib/python3.9/site-packages (from bs4->requests_html) (4.11.1)\n",
      "Requirement already satisfied: soupsieve>1.2 in ./.conda/envs/default/lib/python3.9/site-packages (from beautifulsoup4->bs4->requests_html) (2.3.2.post1)\n",
      "Requirement already satisfied: importlib-resources>=5.0 in ./.conda/envs/default/lib/python3.9/site-packages (from fake-useragent->requests_html) (5.10.0)\n",
      "Requirement already satisfied: lxml>=2.1 in ./.conda/envs/default/lib/python3.9/site-packages (from pyquery->requests_html) (4.9.2)\n",
      "Requirement already satisfied: cssselect>=1.2.0 in ./.conda/envs/default/lib/python3.9/site-packages (from pyquery->requests_html) (1.2.0)\n",
      "Requirement already satisfied: charset-normalizer<4,>=2 in ./.conda/envs/default/lib/python3.9/site-packages (from requests->requests_html) (2.1.1)\n",
      "Requirement already satisfied: idna<4,>=2.5 in ./.conda/envs/default/lib/python3.9/site-packages (from requests->requests_html) (3.4)\n",
      "Requirement already satisfied: nest_asyncio in ./.conda/envs/default/lib/python3.9/site-packages (1.5.6)\n"
     ]
    }
   ],
   "source": [
    "!pip install requests_html\n",
    "from requests_html import HTMLSession\n",
    "\n",
    "!pip install nest_asyncio\n",
    "import nest_asyncio\n",
    "import re\n"
   ]
  },
  {
   "cell_type": "markdown",
   "id": "d4640de2-e28f-46d3-a4a4-6c608e3dee5f",
   "metadata": {},
   "source": [
    "define some functions for collecting the data"
   ]
  },
  {
   "cell_type": "code",
   "execution_count": 2,
   "id": "f2bb230f-5135-4467-bcc9-27d4925f35a1",
   "metadata": {},
   "outputs": [],
   "source": [
    "def scrape(u):\n",
    "    nest_asyncio.apply()\n",
    "    session = HTMLSession()\n",
    "    r = session.get(u)\n",
    "    return  r.text"
   ]
  },
  {
   "cell_type": "code",
   "execution_count": 3,
   "id": "5b2ae581-6fc4-424f-bbf6-117c3e4232f4",
   "metadata": {},
   "outputs": [],
   "source": [
    "def extractor(u,m):\n",
    "    pattern = \"\\\"\" + m + \"\\\": \\\".*\\\"\"   \n",
    "    match_results = re.search(pattern,u, re.IGNORECASE)\n",
    "    name= match_results.group()\n",
    "    dele = \"\\\"\" + m + \"\\\": \\\"\"\n",
    "    name = re.sub(dele, \"\", name) \n",
    "    return name[:-1]"
   ]
  },
  {
   "cell_type": "markdown",
   "id": "32adca26-4f1d-4829-b614-3f8ebb8137cb",
   "metadata": {},
   "source": [
    "loop through each page and return the name, price, type of grape, country of origin, and flavour"
   ]
  },
  {
   "cell_type": "code",
   "execution_count": 4,
   "id": "cb3598e5-d8c3-4382-af97-d17db6fd4259",
   "metadata": {
    "tags": []
   },
   "outputs": [],
   "source": [
    "names = []\n",
    "prices = []\n",
    "drink = []\n",
    "country = []\n",
    "desc = []\n",
    "winetype = []\n",
    "for i in range(1,28):\n",
    "    url = 'https://www.majestic.co.uk/wine?ishideoutofstock=1&paginationtype=10&pagesize=32&pagenumber=' + str(i)\n",
    "    html_str = scrape(url)\n",
    "    pattern = \"data-enhanced-impressions=\\'{\\\"name\\\": \\\".*\\\",\\r\\n                            \\\"id\\\": \\\".*\\\",\\r\\n                            \\\"price\\\": \\\".*\\\",\\r\\n                            \\\"brand\\\": \\\".*\\\",\\r\\n                            \\\"category\\\": \\\".*\\\",\\r\\n                            \\\"variant\\\": \\\".*\\\",\\r\\n                            \\\"list\\\": \\\".*\\\",\\r\\n\"\n",
    "    infs = re.findall(pattern, html_str)\n",
    "    \n",
    "    for i in range(0,len(infs)):\n",
    "        names.append(extractor(infs[i],\"name\"))\n",
    "        prices.append(extractor(infs[i],\"price\"))\n",
    "        drink.append(extractor(infs[i],\"brand\"))\n",
    "        country.append(extractor(infs[i],\"category\"))\n",
    "        desc.append(extractor(infs[i],\"variant\"))\n",
    "        winetype.append(extractor(infs[i],\"list\"))\n",
    "    "
   ]
  },
  {
   "cell_type": "code",
   "execution_count": 5,
   "id": "798948ab-455c-45cc-a62e-0ce66a388c41",
   "metadata": {},
   "outputs": [],
   "source": [
    "import numpy as np\n",
    "import pandas as pd"
   ]
  },
  {
   "cell_type": "code",
   "execution_count": 6,
   "id": "47c4b399-6496-4155-91e0-ca7ce5cba6f6",
   "metadata": {},
   "outputs": [],
   "source": [
    "mywines = pd.DataFrame(zip(names,prices,drink,country,desc),columns = ['name','price','drink','country','description'])"
   ]
  },
  {
   "cell_type": "code",
   "execution_count": 7,
   "id": "53e3dff2-e79f-4ebc-a29e-c03289d3309c",
   "metadata": {},
   "outputs": [],
   "source": [
    "mywines.to_pickle('winelist-1.pkl')"
   ]
  },
  {
   "cell_type": "code",
   "execution_count": 8,
   "id": "073abe96-1dbb-4cd8-858c-f95d4f0c9afb",
   "metadata": {},
   "outputs": [
    {
     "data": {
      "text/html": [
       "<div>\n",
       "<style scoped>\n",
       "    .dataframe tbody tr th:only-of-type {\n",
       "        vertical-align: middle;\n",
       "    }\n",
       "\n",
       "    .dataframe tbody tr th {\n",
       "        vertical-align: top;\n",
       "    }\n",
       "\n",
       "    .dataframe thead th {\n",
       "        text-align: right;\n",
       "    }\n",
       "</style>\n",
       "<table border=\"1\" class=\"dataframe\">\n",
       "  <thead>\n",
       "    <tr style=\"text-align: right;\">\n",
       "      <th></th>\n",
       "      <th>name</th>\n",
       "      <th>price</th>\n",
       "      <th>drink</th>\n",
       "      <th>country</th>\n",
       "      <th>description</th>\n",
       "    </tr>\n",
       "  </thead>\n",
       "  <tbody>\n",
       "    <tr>\n",
       "      <th>0</th>\n",
       "      <td>Louis Latour M&amp;#226;con-Lugny 2020/21</td>\n",
       "      <td>16.99</td>\n",
       "      <td>Chardonnay</td>\n",
       "      <td>France</td>\n",
       "      <td>Ripe &amp;amp; Rounded</td>\n",
       "    </tr>\n",
       "    <tr>\n",
       "      <th>1</th>\n",
       "      <td>The Guv\\u0027nor, Spain</td>\n",
       "      <td>8.99</td>\n",
       "      <td>Tempranillo</td>\n",
       "      <td>Spain</td>\n",
       "      <td>Rich &amp;amp; Juicy</td>\n",
       "    </tr>\n",
       "    <tr>\n",
       "      <th>2</th>\n",
       "      <td>Villa Maria \\u0027Private Bin\\u0027 Sauvignon ...</td>\n",
       "      <td>11.29</td>\n",
       "      <td>Sauvignon Blanc</td>\n",
       "      <td>New Zealand</td>\n",
       "      <td>Crisp &amp;amp; Zesty</td>\n",
       "    </tr>\n",
       "    <tr>\n",
       "      <th>3</th>\n",
       "      <td>La Gioiosa Prosecco DOC, Treviso</td>\n",
       "      <td>12.99</td>\n",
       "      <td>Glera</td>\n",
       "      <td>Prosecco</td>\n",
       "      <td>Light &amp;amp; Refreshing</td>\n",
       "    </tr>\n",
       "    <tr>\n",
       "      <th>4</th>\n",
       "      <td>The Ned \\u0027Waihopai River\\u0027 Sauvignon B...</td>\n",
       "      <td>11.29</td>\n",
       "      <td>Sauvignon Blanc</td>\n",
       "      <td>New Zealand</td>\n",
       "      <td>Crisp &amp;amp; Zesty</td>\n",
       "    </tr>\n",
       "    <tr>\n",
       "      <th>...</th>\n",
       "      <td>...</td>\n",
       "      <td>...</td>\n",
       "      <td>...</td>\n",
       "      <td>...</td>\n",
       "      <td>...</td>\n",
       "    </tr>\n",
       "    <tr>\n",
       "      <th>772</th>\n",
       "      <td>Catena Zapata \\u0027Catena Alta\\u0027 Malbec 2...</td>\n",
       "      <td>33.99</td>\n",
       "      <td>Malbec</td>\n",
       "      <td>Argentina</td>\n",
       "      <td>Rich &amp;amp; Juicy</td>\n",
       "    </tr>\n",
       "    <tr>\n",
       "      <th>773</th>\n",
       "      <td>Waimea Estates Sauvignon Gris 2021/22, Nelson</td>\n",
       "      <td>11.99</td>\n",
       "      <td>Sauvignon Gris</td>\n",
       "      <td>New Zealand</td>\n",
       "      <td>Crisp &amp;amp; Zesty</td>\n",
       "    </tr>\n",
       "    <tr>\n",
       "      <th>774</th>\n",
       "      <td>Chapel Down English Sparkling Ros&amp;#233;, Kent</td>\n",
       "      <td>29.99</td>\n",
       "      <td>Pinot Noir</td>\n",
       "      <td>English sparkling wine</td>\n",
       "      <td>Crisp &amp;amp; Fruity</td>\n",
       "    </tr>\n",
       "    <tr>\n",
       "      <th>775</th>\n",
       "      <td>Casa Ferreirinha \\u0027Planalto\\u0027 White Re...</td>\n",
       "      <td>9.99</td>\n",
       "      <td>Malvasia</td>\n",
       "      <td>Portugal</td>\n",
       "      <td>Aromatic &amp;amp; Floral</td>\n",
       "    </tr>\n",
       "    <tr>\n",
       "      <th>776</th>\n",
       "      <td>Negrar Il Viaggio Appassimento 2020/21, Veneto</td>\n",
       "      <td>12.99</td>\n",
       "      <td>Corvina</td>\n",
       "      <td>Italy</td>\n",
       "      <td>Rich &amp;amp; Juicy</td>\n",
       "    </tr>\n",
       "  </tbody>\n",
       "</table>\n",
       "<p>777 rows × 5 columns</p>\n",
       "</div>"
      ],
      "text/plain": [
       "                                                  name  price  \\\n",
       "0                Louis Latour M&#226;con-Lugny 2020/21  16.99   \n",
       "1                              The Guv\\u0027nor, Spain   8.99   \n",
       "2    Villa Maria \\u0027Private Bin\\u0027 Sauvignon ...  11.29   \n",
       "3                     La Gioiosa Prosecco DOC, Treviso  12.99   \n",
       "4    The Ned \\u0027Waihopai River\\u0027 Sauvignon B...  11.29   \n",
       "..                                                 ...    ...   \n",
       "772  Catena Zapata \\u0027Catena Alta\\u0027 Malbec 2...  33.99   \n",
       "773      Waimea Estates Sauvignon Gris 2021/22, Nelson  11.99   \n",
       "774      Chapel Down English Sparkling Ros&#233;, Kent  29.99   \n",
       "775  Casa Ferreirinha \\u0027Planalto\\u0027 White Re...   9.99   \n",
       "776     Negrar Il Viaggio Appassimento 2020/21, Veneto  12.99   \n",
       "\n",
       "               drink                 country             description  \n",
       "0         Chardonnay                  France      Ripe &amp; Rounded  \n",
       "1        Tempranillo                   Spain        Rich &amp; Juicy  \n",
       "2    Sauvignon Blanc             New Zealand       Crisp &amp; Zesty  \n",
       "3              Glera                Prosecco  Light &amp; Refreshing  \n",
       "4    Sauvignon Blanc             New Zealand       Crisp &amp; Zesty  \n",
       "..               ...                     ...                     ...  \n",
       "772           Malbec               Argentina        Rich &amp; Juicy  \n",
       "773   Sauvignon Gris             New Zealand       Crisp &amp; Zesty  \n",
       "774       Pinot Noir  English sparkling wine      Crisp &amp; Fruity  \n",
       "775         Malvasia                Portugal   Aromatic &amp; Floral  \n",
       "776          Corvina                   Italy        Rich &amp; Juicy  \n",
       "\n",
       "[777 rows x 5 columns]"
      ]
     },
     "execution_count": 8,
     "metadata": {},
     "output_type": "execute_result"
    }
   ],
   "source": [
    "mywines"
   ]
  }
 ],
 "metadata": {
  "kernelspec": {
   "display_name": "default:Python",
   "language": "python",
   "name": "conda-env-default-py"
  },
  "language_info": {
   "codemirror_mode": {
    "name": "ipython",
    "version": 3
   },
   "file_extension": ".py",
   "mimetype": "text/x-python",
   "name": "python",
   "nbconvert_exporter": "python",
   "pygments_lexer": "ipython3",
   "version": "3.9.13"
  }
 },
 "nbformat": 4,
 "nbformat_minor": 5
}
